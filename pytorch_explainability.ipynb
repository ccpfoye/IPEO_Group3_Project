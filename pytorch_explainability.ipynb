{
 "cells": [
  {
   "cell_type": "markdown",
   "metadata": {},
   "source": [
    "# Explainability for PyTorch Models\n",
    "\n",
    "We use \n",
    "\n",
    "```\n",
    "@misc{jacobgilpytorchcam,\n",
    "  title={PyTorch library for CAM methods},\n",
    "  author={Jacob Gildenblat and contributors},\n",
    "  year={2021},\n",
    "  publisher={GitHub},\n",
    "  howpublished={\\url{https://github.com/jacobgil/pytorch-grad-cam}},\n",
    "}\n",
    "```"
   ]
  },
  {
   "cell_type": "code",
   "execution_count": 1,
   "metadata": {},
   "outputs": [],
   "source": [
    "# TORCH implementation of load_data\n",
    "import os\n",
    "import numpy as np\n",
    "import pickle\n",
    "import torch\n",
    "import torchvision.models as models\n",
    "from torch.utils.data import Dataset, DataLoader\n"
   ]
  },
  {
   "cell_type": "code",
   "execution_count": 89,
   "metadata": {},
   "outputs": [],
   "source": [
    "from scr.pytorch_model_defs import WaterPlasticModel"
   ]
  },
  {
   "cell_type": "code",
   "execution_count": 235,
   "metadata": {},
   "outputs": [],
   "source": [
    "model = torch.load('pytorch_models/100_epochs_default.pth', weights_only=False)"
   ]
  },
  {
   "cell_type": "code",
   "execution_count": 4,
   "metadata": {},
   "outputs": [],
   "source": [
    "# Load the data\n",
    "from scr.pytorch_data_loaders import load_data_from_directory, ImageDataset"
   ]
  },
  {
   "cell_type": "code",
   "execution_count": 5,
   "metadata": {},
   "outputs": [],
   "source": [
    "# # Paths to your data directories\n",
    "# train_dir = \"data/classification_dataset/train\"\n",
    "# validation_dir = \"data/classification_dataset/validation\"\n",
    "test_dir = \"data/classification_dataset/test\"\n",
    "\n",
    "# # Load the data\n",
    "# train_images, train_labels = load_data_from_directory(train_dir)\n",
    "# val_images, val_labels = load_data_from_directory(validation_dir)\n",
    "test_images, test_labels = load_data_from_directory(test_dir)\n",
    "\n",
    "# train_dataset = ImageDataset(train_images, train_labels, transform=None)\n",
    "# val_dataset = ImageDataset(val_images, val_labels, transform=None)\n",
    "test_dataset = ImageDataset(test_images, test_labels, transform=None)\n",
    "\n"
   ]
  },
  {
   "cell_type": "code",
   "execution_count": 6,
   "metadata": {},
   "outputs": [
    {
     "data": {
      "text/plain": [
       "<scr.pytorch_data_loaders.ImageDataset at 0x7f07b0bb1a90>"
      ]
     },
     "execution_count": 6,
     "metadata": {},
     "output_type": "execute_result"
    }
   ],
   "source": [
    "test_dataset"
   ]
  },
  {
   "cell_type": "code",
   "execution_count": 7,
   "metadata": {},
   "outputs": [],
   "source": [
    "BATCH_SIZE = 32\n",
    "SEED = 42\n",
    "\n",
    "# Set random seeds for reproducibility\n",
    "torch.manual_seed(SEED)\n",
    "np.random.seed(SEED)\n",
    "\n",
    "test_loader = DataLoader(\n",
    "    test_dataset,\n",
    "    batch_size=BATCH_SIZE,\n",
    "    shuffle=True,      # Typically no shuffle for test\n",
    "    num_workers=2,\n",
    "    pin_memory=True\n",
    ")"
   ]
  },
  {
   "cell_type": "markdown",
   "metadata": {},
   "source": [
    "# GradCAM"
   ]
  },
  {
   "cell_type": "code",
   "execution_count": 8,
   "metadata": {},
   "outputs": [
    {
     "data": {
      "text/plain": [
       "WaterPlasticModel(\n",
       "  (conv1): Conv2d(12, 16, kernel_size=(12, 12), stride=(1, 1), padding=(6, 6))\n",
       "  (pool): MaxPool2d(kernel_size=2, stride=2, padding=0, dilation=1, ceil_mode=False)\n",
       "  (conv2): Conv2d(16, 32, kernel_size=(12, 12), stride=(1, 1), padding=(6, 6))\n",
       "  (conv3): Conv2d(32, 64, kernel_size=(12, 12), stride=(1, 1), padding=(6, 6))\n",
       "  (fc2): Linear(in_features=128, out_features=2, bias=True)\n",
       "  (fc1): Linear(in_features=1024, out_features=128, bias=True)\n",
       ")"
      ]
     },
     "execution_count": 8,
     "metadata": {},
     "output_type": "execute_result"
    }
   ],
   "source": [
    "model"
   ]
  },
  {
   "cell_type": "code",
   "execution_count": 9,
   "metadata": {},
   "outputs": [],
   "source": [
    "from pytorch_grad_cam import GradCAM, HiResCAM, ScoreCAM, GradCAMPlusPlus, AblationCAM, XGradCAM, EigenCAM, FullGrad\n",
    "from pytorch_grad_cam.utils.model_targets import ClassifierOutputTarget\n",
    "from pytorch_grad_cam.utils.image import show_cam_on_image\n",
    "import matplotlib.pyplot as plt\n"
   ]
  },
  {
   "cell_type": "code",
   "execution_count": 223,
   "metadata": {},
   "outputs": [],
   "source": [
    "for images, labels in test_loader:\n",
    "    input_tensor = images\n",
    "    labels = labels\n",
    "    break"
   ]
  },
  {
   "cell_type": "code",
   "execution_count": 224,
   "metadata": {},
   "outputs": [
    {
     "data": {
      "text/plain": [
       "tensor([0, 0, 1, 1, 0, 1, 1, 0, 1, 1, 0, 1, 0, 0, 0, 0, 1, 1, 1, 0, 0, 0, 0, 1,\n",
       "        0, 1, 0, 1, 1, 0, 1, 1])"
      ]
     },
     "execution_count": 224,
     "metadata": {},
     "output_type": "execute_result"
    }
   ],
   "source": [
    "labels"
   ]
  },
  {
   "cell_type": "code",
   "execution_count": 27,
   "metadata": {},
   "outputs": [
    {
     "data": {
      "text/plain": [
       "torch.Size([32, 12, 32, 32])"
      ]
     },
     "execution_count": 27,
     "metadata": {},
     "output_type": "execute_result"
    }
   ],
   "source": [
    "input_tensor.shape"
   ]
  },
  {
   "cell_type": "code",
   "execution_count": 225,
   "metadata": {},
   "outputs": [
    {
     "data": {
      "text/plain": [
       "(np.float64(-0.5), np.float64(31.5), np.float64(31.5), np.float64(-0.5))"
      ]
     },
     "execution_count": 225,
     "metadata": {},
     "output_type": "execute_result"
    },
    {
     "data": {
      "image/png": "[encoded data removed]",
      "text/plain": [
       "<Figure size 640x480 with 1 Axes>"
      ]
     },
     "metadata": {},
     "output_type": "display_data"
    }
   ],
   "source": [
    "rgb_image = input_tensor[0, :][[3,2,1], :, :]\n",
    "rgb_image = rgb_image.permute(1,2,0).numpy()\n",
    "plt.imshow((rgb_image / np.max(rgb_image) * 255).astype(np.uint8))\n",
    "plt.axis('off')\n",
    "# plt.imshow((rgb_image / np.max(rgb_image) * 255).astype(np.uint8))"
   ]
  },
  {
   "cell_type": "code",
   "execution_count": 226,
   "metadata": {},
   "outputs": [
    {
     "data": {
      "text/plain": [
       "(np.float64(-0.5), np.float64(31.5), np.float64(31.5), np.float64(-0.5))"
      ]
     },
     "execution_count": 226,
     "metadata": {},
     "output_type": "execute_result"
    },
    {
     "data": {
      "image/png": "[encoded data removed]",
      "text/plain": [
       "<Figure size 640x480 with 1 Axes>"
      ]
     },
     "metadata": {},
     "output_type": "display_data"
    }
   ],
   "source": [
    "nir_image = input_tensor[0, :][[8,3,2], :, :]\n",
    "nir_image = nir_image.permute(1,2,0).numpy()\n",
    "plt.imshow((nir_image / np.max(nir_image) * 255).astype(np.uint8))\n",
    "plt.axis('off')"
   ]
  },
  {
   "cell_type": "code",
   "execution_count": 236,
   "metadata": {},
   "outputs": [],
   "source": [
    "target_layers = [model.conv3]\n",
    "# target_layers = [model.conv2]\n",
    "# target_layers = [model.conv1]\n",
    "\n",
    "cam = GradCAM(model=model, target_layers=target_layers)"
   ]
  },
  {
   "cell_type": "code",
   "execution_count": 234,
   "metadata": {},
   "outputs": [
    {
     "name": "stdout",
     "output_type": "stream",
     "text": [
      "True Label: 0\n"
     ]
    }
   ],
   "source": [
    "print(f\"True Label: {labels[0]}\")"
   ]
  },
  {
   "cell_type": "code",
   "execution_count": 237,
   "metadata": {},
   "outputs": [],
   "source": [
    "# targets = [ClassifierOutputTarget(0), ClassifierOutputTarget(1)]\n",
    "water_target = [ClassifierOutputTarget(0)]\n",
    "plastic_target = [ClassifierOutputTarget(1)]"
   ]
  },
  {
   "cell_type": "code",
   "execution_count": 238,
   "metadata": {},
   "outputs": [],
   "source": [
    "water_grayscale_cam = cam(input_tensor=input_tensor, targets=water_target)\n",
    "plastic_grayscale_cam = cam(input_tensor=input_tensor, targets=plastic_target)"
   ]
  },
  {
   "cell_type": "code",
   "execution_count": 239,
   "metadata": {},
   "outputs": [],
   "source": [
    "# In this example grayscale_cam has only one image in the batch:\n",
    "water_visualization = show_cam_on_image(rgb_image, water_grayscale_cam[0, :], use_rgb=True, image_weight=0.9)\n",
    "plastic_visualization = show_cam_on_image(rgb_image, plastic_grayscale_cam[0, :], use_rgb=True, image_weight=0.9)\n"
   ]
  },
  {
   "cell_type": "code",
   "execution_count": 240,
   "metadata": {},
   "outputs": [
    {
     "data": {
      "text/plain": [
       "(np.float64(-0.5), np.float64(31.5), np.float64(31.5), np.float64(-0.5))"
      ]
     },
     "execution_count": 240,
     "metadata": {},
     "output_type": "execute_result"
    },
    {
     "data": {
      "image/png": "[encoded data removed]",
      "text/plain": [
       "<Figure size 640x480 with 1 Axes>"
      ]
     },
     "metadata": {},
     "output_type": "display_data"
    }
   ],
   "source": [
    "plt.imshow(water_visualization)\n",
    "plt.axis('off')"
   ]
  },
  {
   "cell_type": "code",
   "execution_count": 233,
   "metadata": {},
   "outputs": [
    {
     "data": {
      "text/plain": [
       "(np.float64(-0.5), np.float64(31.5), np.float64(31.5), np.float64(-0.5))"
      ]
     },
     "execution_count": 233,
     "metadata": {},
     "output_type": "execute_result"
    },
    {
     "data": {
      "image/png": "[encoded data removed]",
      "text/plain": [
       "<Figure size 640x480 with 1 Axes>"
      ]
     },
     "metadata": {},
     "output_type": "display_data"
    }
   ],
   "source": [
    "plt.imshow(plastic_visualization)\n",
    "plt.axis('off')"
   ]
  },
  {
   "cell_type": "code",
   "execution_count": 105,
   "metadata": {},
   "outputs": [],
   "source": [
    "import torch.nn.init as init"
   ]
  },
  {
   "cell_type": "markdown",
   "metadata": {},
   "source": [
    "# Randomize Layers from top to bottom"
   ]
  },
  {
   "cell_type": "markdown",
   "metadata": {},
   "source": [
    "## FC2"
   ]
  },
  {
   "cell_type": "code",
   "execution_count": 241,
   "metadata": {},
   "outputs": [],
   "source": [
    "with torch.no_grad():\n",
    "    init.kaiming_normal_(model.fc2.weight, nonlinearity='relu')\n",
    "    if model.fc2.bias is not None:\n",
    "        init.constant_(model.fc2.bias, 0)"
   ]
  },
  {
   "cell_type": "code",
   "execution_count": 242,
   "metadata": {},
   "outputs": [],
   "source": [
    "cam_fc2 = GradCAM(model=model, target_layers=target_layers)\n",
    "# targets = [ClassifierOutputTarget(0), ClassifierOutputTarget(1)]\n",
    "water_target = [ClassifierOutputTarget(0)]\n",
    "plastic_target = [ClassifierOutputTarget(1)]\n",
    "water_grayscale_cam_fc2 = cam_fc2(input_tensor=input_tensor, targets=water_target)\n",
    "plastic_grayscale_cam_fc2 = cam_fc2(input_tensor=input_tensor, targets=plastic_target)\n",
    "# In this example grayscale_cam has only one image in the batch:\n",
    "water_visualization_fc2 = show_cam_on_image(rgb_image, water_grayscale_cam_fc2[0, :], use_rgb=True, image_weight=0.9)\n",
    "plastic_visualization_fc2 = show_cam_on_image(rgb_image, plastic_grayscale_cam_fc2[0, :], use_rgb=True, image_weight=0.9)\n"
   ]
  },
  {
   "cell_type": "code",
   "execution_count": 243,
   "metadata": {},
   "outputs": [
    {
     "data": {
      "text/plain": [
       "(np.float64(-0.5), np.float64(31.5), np.float64(31.5), np.float64(-0.5))"
      ]
     },
     "execution_count": 243,
     "metadata": {},
     "output_type": "execute_result"
    },
    {
     "data": {
      "image/png": "[encoded data removed]",
      "text/plain": [
       "<Figure size 640x480 with 1 Axes>"
      ]
     },
     "metadata": {},
     "output_type": "display_data"
    }
   ],
   "source": [
    "plt.imshow(water_visualization_fc2)\n",
    "plt.axis('off')"
   ]
  },
  {
   "cell_type": "code",
   "execution_count": 156,
   "metadata": {},
   "outputs": [
    {
     "data": {
      "text/plain": [
       "(np.float64(-0.5), np.float64(31.5), np.float64(31.5), np.float64(-0.5))"
      ]
     },
     "execution_count": 156,
     "metadata": {},
     "output_type": "execute_result"
    },
    {
     "data": {
      "image/png": "[encoded data removed]",
      "text/plain": [
       "<Figure size 640x480 with 1 Axes>"
      ]
     },
     "metadata": {},
     "output_type": "display_data"
    }
   ],
   "source": [
    "plt.imshow(plastic_visualization_fc2)\n",
    "plt.axis('off')"
   ]
  },
  {
   "cell_type": "markdown",
   "metadata": {},
   "source": [
    "## FC1?"
   ]
  },
  {
   "cell_type": "code",
   "execution_count": 244,
   "metadata": {},
   "outputs": [],
   "source": [
    "with torch.no_grad():\n",
    "    init.kaiming_normal_(model.fc1.weight, nonlinearity='relu')\n",
    "    if model.fc1.bias is not None:\n",
    "        init.constant_(model.fc1.bias, 0)\n"
   ]
  },
  {
   "cell_type": "code",
   "execution_count": 245,
   "metadata": {},
   "outputs": [],
   "source": [
    "cam_fc1 = GradCAM(model=model, target_layers=target_layers)\n",
    "# targets = [ClassifierOutputTarget(0), ClassifierOutputTarget(1)]\n",
    "water_target = [ClassifierOutputTarget(0)]\n",
    "plastic_target = [ClassifierOutputTarget(1)]\n",
    "water_grayscale_cam_fc1 = cam_fc1(input_tensor=input_tensor, targets=water_target)\n",
    "plastic_grayscale_cam_fc1 = cam_fc1(input_tensor=input_tensor, targets=plastic_target)\n",
    "# In this example grayscale_cam has only one image in the batch:\n",
    "water_visualization_fc1 = show_cam_on_image(rgb_image, water_grayscale_cam_fc1[0, :], use_rgb=True, image_weight=0.9)\n",
    "plastic_visualization_fc1 = show_cam_on_image(rgb_image, plastic_grayscale_cam_fc1[0, :], use_rgb=True, image_weight=0.9)\n"
   ]
  },
  {
   "cell_type": "code",
   "execution_count": 246,
   "metadata": {},
   "outputs": [
    {
     "data": {
      "text/plain": [
       "(np.float64(-0.5), np.float64(31.5), np.float64(31.5), np.float64(-0.5))"
      ]
     },
     "execution_count": 246,
     "metadata": {},
     "output_type": "execute_result"
    },
    {
     "data": {
      "image/png": "[encoded data removed]",
      "text/plain": [
       "<Figure size 640x480 with 1 Axes>"
      ]
     },
     "metadata": {},
     "output_type": "display_data"
    }
   ],
   "source": [
    "plt.imshow(water_visualization_fc1)\n",
    "plt.axis('off')"
   ]
  },
  {
   "cell_type": "code",
   "execution_count": 159,
   "metadata": {},
   "outputs": [
    {
     "data": {
      "text/plain": [
       "(np.float64(-0.5), np.float64(31.5), np.float64(31.5), np.float64(-0.5))"
      ]
     },
     "execution_count": 159,
     "metadata": {},
     "output_type": "execute_result"
    },
    {
     "data": {
      "image/png": "[encoded data removed]",
      "text/plain": [
       "<Figure size 640x480 with 1 Axes>"
      ]
     },
     "metadata": {},
     "output_type": "display_data"
    }
   ],
   "source": [
    "plt.imshow(plastic_visualization_fc1)\n",
    "plt.axis('off')"
   ]
  },
  {
   "cell_type": "markdown",
   "metadata": {},
   "source": [
    "## Randomize Conv3"
   ]
  },
  {
   "cell_type": "code",
   "execution_count": 247,
   "metadata": {},
   "outputs": [],
   "source": [
    "# Assuming 'model' is your trained model and 'conv3' is the layer to reinitialize\n",
    "with torch.no_grad():\n",
    "    init.kaiming_normal_(model.conv3.weight, nonlinearity='relu')\n",
    "    if model.conv3.bias is not None:\n",
    "        init.constant_(model.conv3.bias, 0)\n",
    "\n"
   ]
  },
  {
   "cell_type": "code",
   "execution_count": 248,
   "metadata": {},
   "outputs": [],
   "source": [
    "cam_conv3 = GradCAM(model=model, target_layers=target_layers)\n",
    "# targets = [ClassifierOutputTarget(0), ClassifierOutputTarget(1)]\n",
    "water_target = [ClassifierOutputTarget(0)]\n",
    "plastic_target = [ClassifierOutputTarget(1)]\n",
    "water_grayscale_cam_conv3 = cam_conv3(input_tensor=input_tensor, targets=water_target)\n",
    "plastic_grayscale_cam_conv3 = cam_conv3(input_tensor=input_tensor, targets=plastic_target)\n",
    "# In this example grayscale_cam has only one image in the batch:\n",
    "water_visualization_conv3 = show_cam_on_image(rgb_image, water_grayscale_cam_conv3[0, :], use_rgb=True, image_weight=0.9)\n",
    "plastic_visualization_conv3 = show_cam_on_image(rgb_image, plastic_grayscale_cam_conv3[0, :], use_rgb=True, image_weight=0.9)\n"
   ]
  },
  {
   "cell_type": "code",
   "execution_count": 249,
   "metadata": {},
   "outputs": [
    {
     "data": {
      "text/plain": [
       "(np.float64(-0.5), np.float64(31.5), np.float64(31.5), np.float64(-0.5))"
      ]
     },
     "execution_count": 249,
     "metadata": {},
     "output_type": "execute_result"
    },
    {
     "data": {
      "image/png": "[encoded data removed]",
      "text/plain": [
       "<Figure size 640x480 with 1 Axes>"
      ]
     },
     "metadata": {},
     "output_type": "display_data"
    }
   ],
   "source": [
    "plt.imshow(water_visualization_conv3)\n",
    "plt.axis('off')"
   ]
  },
  {
   "cell_type": "code",
   "execution_count": 163,
   "metadata": {},
   "outputs": [
    {
     "data": {
      "text/plain": [
       "(np.float64(-0.5), np.float64(31.5), np.float64(31.5), np.float64(-0.5))"
      ]
     },
     "execution_count": 163,
     "metadata": {},
     "output_type": "execute_result"
    },
    {
     "data": {
      "image/png": "[encoded data removed]",
      "text/plain": [
       "<Figure size 640x480 with 1 Axes>"
      ]
     },
     "metadata": {},
     "output_type": "display_data"
    }
   ],
   "source": [
    "plt.imshow(plastic_visualization_conv3)\n",
    "plt.axis('off')"
   ]
  },
  {
   "cell_type": "markdown",
   "metadata": {},
   "source": [
    "## Randomize Conv2"
   ]
  },
  {
   "cell_type": "code",
   "execution_count": 250,
   "metadata": {},
   "outputs": [],
   "source": [
    "with torch.no_grad():\n",
    "    init.kaiming_normal_(model.conv2.weight, nonlinearity='relu')\n",
    "    if model.conv2.bias is not None:\n",
    "        init.constant_(model.conv2.bias, 0)\n"
   ]
  },
  {
   "cell_type": "code",
   "execution_count": 251,
   "metadata": {},
   "outputs": [],
   "source": [
    "cam_conv2 = GradCAM(model=model, target_layers=target_layers)\n",
    "# targets = [ClassifierOutputTarget(0), ClassifierOutputTarget(1)]\n",
    "water_target = [ClassifierOutputTarget(0)]\n",
    "plastic_target = [ClassifierOutputTarget(1)]\n",
    "water_grayscale_cam_conv2 = cam_conv2(input_tensor=input_tensor, targets=water_target)\n",
    "plastic_grayscale_cam_conv2 = cam_conv2(input_tensor=input_tensor, targets=plastic_target)\n",
    "# In this example grayscale_cam has only one image in the batch:\n",
    "water_visualization_conv2 = show_cam_on_image(rgb_image, water_grayscale_cam_conv2[0, :], use_rgb=True, image_weight=0.9)\n",
    "plastic_visualization_conv2 = show_cam_on_image(rgb_image, plastic_grayscale_cam_conv2[0, :], use_rgb=True, image_weight=0.9)\n"
   ]
  },
  {
   "cell_type": "code",
   "execution_count": 252,
   "metadata": {},
   "outputs": [
    {
     "data": {
      "text/plain": [
       "(np.float64(-0.5), np.float64(31.5), np.float64(31.5), np.float64(-0.5))"
      ]
     },
     "execution_count": 252,
     "metadata": {},
     "output_type": "execute_result"
    },
    {
     "data": {
      "image/png": "[encoded data removed]",
      "text/plain": [
       "<Figure size 640x480 with 1 Axes>"
      ]
     },
     "metadata": {},
     "output_type": "display_data"
    }
   ],
   "source": [
    "plt.imshow(water_visualization_conv2)\n",
    "plt.axis('off')"
   ]
  },
  {
   "cell_type": "code",
   "execution_count": 167,
   "metadata": {},
   "outputs": [
    {
     "data": {
      "text/plain": [
       "(np.float64(-0.5), np.float64(31.5), np.float64(31.5), np.float64(-0.5))"
      ]
     },
     "execution_count": 167,
     "metadata": {},
     "output_type": "execute_result"
    },
    {
     "data": {
      "image/png": "[encoded data removed]",
      "text/plain": [
       "<Figure size 640x480 with 1 Axes>"
      ]
     },
     "metadata": {},
     "output_type": "display_data"
    }
   ],
   "source": [
    "plt.imshow(plastic_visualization_conv2)\n",
    "plt.axis('off')"
   ]
  },
  {
   "cell_type": "markdown",
   "metadata": {},
   "source": [
    "## Randomize conv1"
   ]
  },
  {
   "cell_type": "code",
   "execution_count": 253,
   "metadata": {},
   "outputs": [],
   "source": [
    "with torch.no_grad():\n",
    "    init.kaiming_normal_(model.conv1.weight, nonlinearity='relu')\n",
    "    if model.conv1.bias is not None:\n",
    "        init.constant_(model.conv1.bias, 0)\n"
   ]
  },
  {
   "cell_type": "code",
   "execution_count": 254,
   "metadata": {},
   "outputs": [],
   "source": [
    "cam_conv1 = GradCAM(model=model, target_layers=target_layers)\n",
    "# targets = [ClassifierOutputTarget(0), ClassifierOutputTarget(1)]\n",
    "water_target = [ClassifierOutputTarget(0)]\n",
    "plastic_target = [ClassifierOutputTarget(1)]\n",
    "water_grayscale_cam_conv1 = cam_conv1(input_tensor=input_tensor, targets=water_target)\n",
    "plastic_grayscale_cam_conv1 = cam_conv1(input_tensor=input_tensor, targets=plastic_target)\n",
    "# In this example grayscale_cam has only one image in the batch:\n",
    "water_visualization_conv1 = show_cam_on_image(rgb_image, water_grayscale_cam_conv1[0, :], use_rgb=True, image_weight=0.9)\n",
    "plastic_visualization_conv1 = show_cam_on_image(rgb_image, plastic_grayscale_cam_conv1[0, :], use_rgb=True, image_weight=0.9)\n"
   ]
  },
  {
   "cell_type": "code",
   "execution_count": 170,
   "metadata": {},
   "outputs": [
    {
     "data": {
      "text/plain": [
       "(np.float64(-0.5), np.float64(31.5), np.float64(31.5), np.float64(-0.5))"
      ]
     },
     "execution_count": 255,
     "metadata": {},
     "output_type": "execute_result"
    },
    {
     "data": {
      "image/png": "[encoded data removed]",
      "text/plain": [
       "<Figure size 640x480 with 1 Axes>"
      ]
     },
     "metadata": {},
     "output_type": "display_data"
    }
   ],
   "source": [
    "plt.imshow(water_visualization_conv1)\n",
    "plt.axis('off')"
   ]
  },
  {
   "cell_type": "code",
   "execution_count": 171,
   "metadata": {},
   "outputs": [
    {
     "data": {
      "text/plain": [
       "(np.float64(-0.5), np.float64(31.5), np.float64(31.5), np.float64(-0.5))"
      ]
     },
     "execution_count": 171,
     "metadata": {},
     "output_type": "execute_result"
    },
    {
     "data": {
      "image/png": "[encoded data removed]",
      "text/plain": [
       "<Figure size 640x480 with 1 Axes>"
      ]
     },
     "metadata": {},
     "output_type": "display_data"
    }
   ],
   "source": [
    "plt.imshow(plastic_visualization_conv1)\n",
    "plt.axis('off')"
   ]
  },
  {
   "cell_type": "markdown",
   "metadata": {},
   "source": [
    "# TODO: Metrics"
   ]
  },
  {
   "cell_type": "code",
   "execution_count": 135,
   "metadata": {},
   "outputs": [],
   "source": [
    "from scr.similarity_metrics import spearman_rank_correlation_abs, spearman_rank_correlation_noabs, structural_similarity_index, pearson_correlation_hog"
   ]
  }
 ],
 "metadata": {
  "kernelspec": {
   "display_name": "TorchML",
   "language": "python",
   "name": "python3"
  },
  "language_info": {
   "codemirror_mode": {
    "name": "ipython",
    "version": 3
   },
   "file_extension": ".py",
   "mimetype": "text/x-python",
   "name": "python",
   "nbconvert_exporter": "python",
   "pygments_lexer": "ipython3",
   "version": "3.11.10"
  }
 },
 "nbformat": 4,
 "nbformat_minor": 2
}
