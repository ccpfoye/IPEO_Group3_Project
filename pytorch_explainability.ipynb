{
 "cells": [
  {
   "cell_type": "markdown",
   "metadata": {},
   "source": [
    "# Explainability for PyTorch Models\n",
    "\n",
    "We use \n",
    "\n",
    "```\n",
    "@misc{jacobgilpytorchcam,\n",
    "  title={PyTorch library for CAM methods},\n",
    "  author={Jacob Gildenblat and contributors},\n",
    "  year={2021},\n",
    "  publisher={GitHub},\n",
    "  howpublished={\\url{https://github.com/jacobgil/pytorch-grad-cam}},\n",
    "}\n",
    "```"
   ]
  },
  {
   "cell_type": "code",
   "execution_count": 1,
   "metadata": {},
   "outputs": [],
   "source": [
    "# TORCH implementation of load_data\n",
    "import os\n",
    "import numpy as np\n",
    "import pickle\n",
    "import torch\n",
    "import torchvision.models as models\n",
    "from torch.utils.data import Dataset, DataLoader\n"
   ]
  },
  {
   "cell_type": "code",
   "execution_count": 2,
   "metadata": {},
   "outputs": [],
   "source": [
    "from scr.pytorch_model_defs import WaterPlasticModel"
   ]
  },
  {
   "cell_type": "code",
   "execution_count": 3,
   "metadata": {},
   "outputs": [],
   "source": [
    "model = torch.load('pytorch_models/100_epochs_default.pth', weights_only=False)"
   ]
  },
  {
   "cell_type": "code",
   "execution_count": 4,
   "metadata": {},
   "outputs": [],
   "source": [
    "# Load the data\n",
    "from scr.pytorch_data_loaders import load_data_from_directory, ImageDataset"
   ]
  },
  {
   "cell_type": "code",
   "execution_count": 5,
   "metadata": {},
   "outputs": [],
   "source": [
    "# # Paths to your data directories\n",
    "# train_dir = \"data/classification_dataset/train\"\n",
    "# validation_dir = \"data/classification_dataset/validation\"\n",
    "test_dir = \"data/classification_dataset/test\"\n",
    "\n",
    "# # Load the data\n",
    "# train_images, train_labels = load_data_from_directory(train_dir)\n",
    "# val_images, val_labels = load_data_from_directory(validation_dir)\n",
    "test_images, test_labels = load_data_from_directory(test_dir)\n",
    "\n",
    "# train_dataset = ImageDataset(train_images, train_labels, transform=None)\n",
    "# val_dataset = ImageDataset(val_images, val_labels, transform=None)\n",
    "test_dataset = ImageDataset(test_images, test_labels, transform=None)\n",
    "\n"
   ]
  },
  {
   "cell_type": "code",
   "execution_count": 6,
   "metadata": {},
   "outputs": [
    {
     "data": {
      "text/plain": [
       "<scr.pytorch_data_loaders.ImageDataset at 0x7face04eb910>"
      ]
     },
     "execution_count": 6,
     "metadata": {},
     "output_type": "execute_result"
    }
   ],
   "source": [
    "test_dataset"
   ]
  },
  {
   "cell_type": "code",
   "execution_count": 57,
   "metadata": {},
   "outputs": [],
   "source": [
    "BATCH_SIZE = 32\n",
    "SEED = 42\n",
    "\n",
    "# Set random seeds for reproducibility\n",
    "torch.manual_seed(SEED)\n",
    "np.random.seed(SEED)\n",
    "\n",
    "# train_loader = DataLoader(\n",
    "#     train_dataset,\n",
    "#     batch_size=BATCH_SIZE,\n",
    "#     shuffle=True,       # Shuffle only for training\n",
    "#     num_workers=2,      # Adjust based on your system\n",
    "#     pin_memory=True     # Speeds up GPU transfer if using CUDA\n",
    "# )\n",
    "\n",
    "# val_loader = DataLoader(\n",
    "#     val_dataset,\n",
    "#     batch_size=BATCH_SIZE,\n",
    "#     shuffle=False,      # Typically no shuffle for validation\n",
    "#     num_workers=2,\n",
    "#     pin_memory=True\n",
    "# )\n",
    "\n",
    "test_loader = DataLoader(\n",
    "    test_dataset,\n",
    "    batch_size=BATCH_SIZE,\n",
    "    shuffle=True,      # Typically no shuffle for test\n",
    "    num_workers=2,\n",
    "    pin_memory=True\n",
    ")"
   ]
  },
  {
   "cell_type": "markdown",
   "metadata": {},
   "source": [
    "# GradCAM"
   ]
  },
  {
   "cell_type": "code",
   "execution_count": 8,
   "metadata": {},
   "outputs": [
    {
     "data": {
      "text/plain": [
       "WaterPlasticModel(\n",
       "  (conv1): Conv2d(12, 16, kernel_size=(12, 12), stride=(1, 1), padding=(6, 6))\n",
       "  (pool): MaxPool2d(kernel_size=2, stride=2, padding=0, dilation=1, ceil_mode=False)\n",
       "  (conv2): Conv2d(16, 32, kernel_size=(12, 12), stride=(1, 1), padding=(6, 6))\n",
       "  (conv3): Conv2d(32, 64, kernel_size=(12, 12), stride=(1, 1), padding=(6, 6))\n",
       "  (fc2): Linear(in_features=128, out_features=2, bias=True)\n",
       "  (fc1): Linear(in_features=1024, out_features=128, bias=True)\n",
       ")"
      ]
     },
     "execution_count": 8,
     "metadata": {},
     "output_type": "execute_result"
    }
   ],
   "source": [
    "model"
   ]
  },
  {
   "cell_type": "code",
   "execution_count": 205,
   "metadata": {},
   "outputs": [],
   "source": [
    "from pytorch_grad_cam import GradCAM, HiResCAM, ScoreCAM, GradCAMPlusPlus, AblationCAM, XGradCAM, EigenCAM, FullGrad\n",
    "from pytorch_grad_cam.utils.model_targets import ClassifierOutputTarget\n",
    "from pytorch_grad_cam.utils.image import show_cam_on_image\n",
    "import matplotlib.pyplot as plt\n"
   ]
  },
  {
   "cell_type": "code",
   "execution_count": 365,
   "metadata": {},
   "outputs": [],
   "source": [
    "for images, labels in test_loader:\n",
    "    input_tensor = images\n",
    "    break"
   ]
  },
  {
   "cell_type": "code",
   "execution_count": 341,
   "metadata": {},
   "outputs": [
    {
     "data": {
      "text/plain": [
       "torch.Size([32, 12, 32, 32])"
      ]
     },
     "execution_count": 341,
     "metadata": {},
     "output_type": "execute_result"
    }
   ],
   "source": [
    "input_tensor.shape"
   ]
  },
  {
   "cell_type": "code",
   "execution_count": 366,
   "metadata": {},
   "outputs": [
    {
     "data": {
      "text/plain": [
       "(np.float64(-0.5), np.float64(31.5), np.float64(31.5), np.float64(-0.5))"
      ]
     },
     "execution_count": 366,
     "metadata": {},
     "output_type": "execute_result"
    },
    {
     "data": {
      "image/png": "[encoded data removed]",
      "text/plain": [
       "<Figure size 640x480 with 1 Axes>"
      ]
     },
     "metadata": {},
     "output_type": "display_data"
    }
   ],
   "source": [
    "rgb_image = input_tensor[0, :][[3,2,1], :, :]\n",
    "rgb_image = rgb_image.permute(1,2,0).numpy()\n",
    "plt.imshow((rgb_image / np.max(rgb_image) * 255).astype(np.uint8))\n",
    "plt.axis('off')\n",
    "# plt.imshow((rgb_image / np.max(rgb_image) * 255).astype(np.uint8))"
   ]
  },
  {
   "cell_type": "code",
   "execution_count": 340,
   "metadata": {},
   "outputs": [
    {
     "data": {
      "text/plain": [
       "tensor([[[3.4500e-02, 3.4500e-02, 3.4500e-02,  ..., 3.5700e-02,\n",
       "          3.5700e-02, 3.5700e-02],\n",
       "         [3.4200e-02, 3.4200e-02, 3.4200e-02,  ..., 4.2600e-02,\n",
       "          4.2600e-02, 4.2600e-02],\n",
       "         [3.4200e-02, 3.4200e-02, 3.4200e-02,  ..., 4.2600e-02,\n",
       "          4.2600e-02, 4.2600e-02],\n",
       "         ...,\n",
       "         [5.1400e-02, 5.1400e-02, 5.1400e-02,  ..., 3.5500e-02,\n",
       "          3.5500e-02, 3.5500e-02],\n",
       "         [5.1400e-02, 5.1400e-02, 5.1400e-02,  ..., 3.5500e-02,\n",
       "          3.5500e-02, 3.5500e-02],\n",
       "         [4.1000e-02, 4.1000e-02, 4.1000e-02,  ..., 3.4000e-02,\n",
       "          3.4000e-02, 3.4000e-02]],\n",
       "\n",
       "        [[4.9400e-02, 5.0200e-02, 5.1700e-02,  ..., 5.1100e-02,\n",
       "          4.9400e-02, 4.8300e-02],\n",
       "         [4.9400e-02, 4.9400e-02, 4.9000e-02,  ..., 4.7100e-02,\n",
       "          5.1700e-02, 4.7500e-02],\n",
       "         [4.8000e-02, 4.5300e-02, 4.5200e-02,  ..., 4.9700e-02,\n",
       "          5.3500e-02, 5.0000e-02],\n",
       "         ...,\n",
       "         [6.9400e-02, 8.0100e-02, 8.8600e-02,  ..., 4.6100e-02,\n",
       "          4.9700e-02, 5.0000e-02],\n",
       "         [7.5100e-02, 7.8600e-02, 8.9000e-02,  ..., 4.8000e-02,\n",
       "          4.9000e-02, 5.3800e-02],\n",
       "         [6.9800e-02, 5.3500e-02, 5.6900e-02,  ..., 4.1700e-02,\n",
       "          4.6200e-02, 4.7100e-02]],\n",
       "\n",
       "        [[7.3500e-02, 7.4100e-02, 7.2600e-02,  ..., 7.0000e-02,\n",
       "          6.9200e-02, 7.1200e-02],\n",
       "         [6.9200e-02, 7.0400e-02, 6.9700e-02,  ..., 7.1900e-02,\n",
       "          7.5900e-02, 7.4700e-02],\n",
       "         [6.9700e-02, 7.1400e-02, 7.2400e-02,  ..., 7.3600e-02,\n",
       "          7.4300e-02, 7.0800e-02],\n",
       "         ...,\n",
       "         [9.2400e-02, 1.1280e-01, 1.1780e-01,  ..., 7.2600e-02,\n",
       "          7.2600e-02, 7.3400e-02],\n",
       "         [1.0420e-01, 1.0580e-01, 1.1140e-01,  ..., 6.8600e-02,\n",
       "          7.1900e-02, 7.2400e-02],\n",
       "         [9.3800e-02, 8.2300e-02, 8.2500e-02,  ..., 7.2300e-02,\n",
       "          7.3900e-02, 7.0400e-02]],\n",
       "\n",
       "        ...,\n",
       "\n",
       "        [[1.0000e-04, 1.0000e-04, 1.0000e-04,  ..., 1.0000e-04,\n",
       "          1.0000e-04, 1.0000e-04],\n",
       "         [1.0000e-04, 1.0000e-04, 1.0000e-04,  ..., 1.0000e-04,\n",
       "          1.0000e-04, 1.0000e-04],\n",
       "         [1.0000e-04, 1.0000e-04, 1.0000e-04,  ..., 1.0000e-04,\n",
       "          1.0000e-04, 1.0000e-04],\n",
       "         ...,\n",
       "         [1.0000e-04, 1.0000e-04, 1.0000e-04,  ..., 1.0000e-04,\n",
       "          1.0000e-04, 1.0000e-04],\n",
       "         [1.0000e-04, 1.0000e-04, 1.0000e-04,  ..., 1.0000e-04,\n",
       "          1.0000e-04, 1.0000e-04],\n",
       "         [1.0000e-04, 1.0000e-04, 1.0000e-04,  ..., 1.0000e-04,\n",
       "          1.0000e-04, 1.0000e-04]],\n",
       "\n",
       "        [[1.0000e-04, 1.0000e-04, 1.0000e-04,  ..., 1.0000e-04,\n",
       "          1.0000e-04, 1.0000e-04],\n",
       "         [1.0000e-04, 1.0000e-04, 1.0000e-04,  ..., 1.0000e-04,\n",
       "          1.0000e-04, 1.0000e-04],\n",
       "         [1.0000e-04, 1.0000e-04, 1.0000e-04,  ..., 1.0000e-04,\n",
       "          1.0000e-04, 1.0000e-04],\n",
       "         ...,\n",
       "         [1.0000e-04, 1.0000e-04, 1.0000e-04,  ..., 1.0000e-04,\n",
       "          1.0000e-04, 1.0000e-04],\n",
       "         [1.0000e-04, 1.0000e-04, 1.0000e-04,  ..., 1.0000e-04,\n",
       "          1.0000e-04, 1.0000e-04],\n",
       "         [1.0000e-04, 1.0000e-04, 1.0000e-04,  ..., 1.0000e-04,\n",
       "          1.0000e-04, 1.0000e-04]],\n",
       "\n",
       "        [[1.0000e-04, 1.0000e-04, 1.0000e-04,  ..., 1.0000e-04,\n",
       "          1.0000e-04, 1.0000e-04],\n",
       "         [1.0000e-04, 1.0000e-04, 1.0000e-04,  ..., 1.0000e-04,\n",
       "          1.0000e-04, 1.0000e-04],\n",
       "         [1.0000e-04, 1.0000e-04, 1.0000e-04,  ..., 1.0000e-04,\n",
       "          1.0000e-04, 1.0000e-04],\n",
       "         ...,\n",
       "         [7.0000e-04, 7.0000e-04, 3.0000e-04,  ..., 1.0000e-04,\n",
       "          1.0000e-04, 1.0000e-04],\n",
       "         [7.0000e-04, 7.0000e-04, 3.0000e-04,  ..., 1.0000e-04,\n",
       "          1.0000e-04, 1.0000e-04],\n",
       "         [8.0000e-04, 8.0000e-04, 3.0000e-04,  ..., 1.0000e-04,\n",
       "          1.0000e-04, 1.0000e-04]]])"
      ]
     },
     "execution_count": 340,
     "metadata": {},
     "output_type": "execute_result"
    }
   ],
   "source": [
    "input_tensor[0, :]"
   ]
  },
  {
   "cell_type": "code",
   "execution_count": 367,
   "metadata": {},
   "outputs": [
    {
     "data": {
      "text/plain": [
       "(np.float64(-0.5), np.float64(31.5), np.float64(31.5), np.float64(-0.5))"
      ]
     },
     "execution_count": 367,
     "metadata": {},
     "output_type": "execute_result"
    },
    {
     "data": {
      "image/png": "[encoded data removed]",
      "text/plain": [
       "<Figure size 640x480 with 1 Axes>"
      ]
     },
     "metadata": {},
     "output_type": "display_data"
    }
   ],
   "source": [
    "nir_image = input_tensor[0, :][[8,3,2], :, :]\n",
    "nir_image = nir_image.permute(1,2,0).numpy()\n",
    "plt.imshow((nir_image / np.max(nir_image) * 255).astype(np.uint8))\n",
    "plt.axis('off')"
   ]
  },
  {
   "cell_type": "code",
   "execution_count": 369,
   "metadata": {},
   "outputs": [],
   "source": [
    "target_layers = [model.conv3]\n",
    "# target_layers = [model.conv1]\n",
    "# target_layers = [model.conv2]\n",
    "\n",
    "cam = GradCAM(model=model, target_layers=target_layers)"
   ]
  },
  {
   "cell_type": "code",
   "execution_count": 370,
   "metadata": {},
   "outputs": [
    {
     "name": "stdout",
     "output_type": "stream",
     "text": [
      "Current Label: 1\n"
     ]
    }
   ],
   "source": [
    "print(f\"Current Label: {labels[0]}\")"
   ]
  },
  {
   "cell_type": "code",
   "execution_count": 428,
   "metadata": {},
   "outputs": [],
   "source": [
    "targets = [ClassifierOutputTarget(1)]"
   ]
  },
  {
   "cell_type": "code",
   "execution_count": 429,
   "metadata": {},
   "outputs": [],
   "source": [
    "grayscale_cam = cam(input_tensor=input_tensor, targets=targets)\n"
   ]
  },
  {
   "cell_type": "code",
   "execution_count": 430,
   "metadata": {},
   "outputs": [
    {
     "data": {
      "text/plain": [
       "torch.Size([32, 12, 32, 32])"
      ]
     },
     "execution_count": 430,
     "metadata": {},
     "output_type": "execute_result"
    }
   ],
   "source": [
    "input_tensor.shape"
   ]
  },
  {
   "cell_type": "code",
   "execution_count": 431,
   "metadata": {},
   "outputs": [
    {
     "data": {
      "text/plain": [
       "array([[[0.0078, 0.0155, 0.021 ],\n",
       "        [0.0074, 0.0143, 0.0197],\n",
       "        [0.0067, 0.0143, 0.0206],\n",
       "        ...,\n",
       "        [0.0057, 0.0138, 0.0227],\n",
       "        [0.0058, 0.0128, 0.0215],\n",
       "        [0.0061, 0.0127, 0.0202]],\n",
       "\n",
       "       [[0.0064, 0.0142, 0.0204],\n",
       "        [0.0064, 0.0145, 0.021 ],\n",
       "        [0.0076, 0.0155, 0.0201],\n",
       "        ...,\n",
       "        [0.0058, 0.0142, 0.0202],\n",
       "        [0.005 , 0.0138, 0.0209],\n",
       "        [0.0064, 0.0135, 0.0206]],\n",
       "\n",
       "       [[0.0058, 0.0151, 0.0208],\n",
       "        [0.0062, 0.0153, 0.0226],\n",
       "        [0.0076, 0.0173, 0.021 ],\n",
       "        ...,\n",
       "        [0.0057, 0.0127, 0.0192],\n",
       "        [0.0053, 0.0142, 0.0213],\n",
       "        [0.0054, 0.0148, 0.0223]],\n",
       "\n",
       "       ...,\n",
       "\n",
       "       [[0.0058, 0.0152, 0.0203],\n",
       "        [0.0072, 0.0111, 0.0178],\n",
       "        [0.0058, 0.013 , 0.0184],\n",
       "        ...,\n",
       "        [0.0065, 0.0135, 0.0203],\n",
       "        [0.007 , 0.0122, 0.0212],\n",
       "        [0.0105, 0.0181, 0.0242]],\n",
       "\n",
       "       [[0.0058, 0.0158, 0.0208],\n",
       "        [0.0072, 0.0145, 0.0198],\n",
       "        [0.0057, 0.0132, 0.0194],\n",
       "        ...,\n",
       "        [0.0058, 0.0145, 0.0203],\n",
       "        [0.0051, 0.014 , 0.0204],\n",
       "        [0.0089, 0.0137, 0.0213]],\n",
       "\n",
       "       [[0.006 , 0.0145, 0.02  ],\n",
       "        [0.006 , 0.0147, 0.021 ],\n",
       "        [0.0067, 0.0139, 0.0198],\n",
       "        ...,\n",
       "        [0.0071, 0.0142, 0.0219],\n",
       "        [0.0058, 0.0132, 0.022 ],\n",
       "        [0.0068, 0.0138, 0.022 ]]], shape=(32, 32, 3), dtype=float32)"
      ]
     },
     "execution_count": 431,
     "metadata": {},
     "output_type": "execute_result"
    }
   ],
   "source": [
    "rgb_image"
   ]
  },
  {
   "cell_type": "code",
   "execution_count": 432,
   "metadata": {},
   "outputs": [
    {
     "data": {
      "text/plain": [
       "array([[[0., 0., 0., ..., 0., 0., 0.],\n",
       "        [0., 0., 0., ..., 0., 0., 0.],\n",
       "        [0., 0., 0., ..., 0., 0., 0.],\n",
       "        ...,\n",
       "        [0., 0., 0., ..., 0., 0., 0.],\n",
       "        [0., 0., 0., ..., 0., 0., 0.],\n",
       "        [0., 0., 0., ..., 0., 0., 0.]],\n",
       "\n",
       "       [[0., 0., 0., ..., 0., 0., 0.],\n",
       "        [0., 0., 0., ..., 0., 0., 0.],\n",
       "        [0., 0., 0., ..., 0., 0., 0.],\n",
       "        ...,\n",
       "        [0., 0., 0., ..., 0., 0., 0.],\n",
       "        [0., 0., 0., ..., 0., 0., 0.],\n",
       "        [0., 0., 0., ..., 0., 0., 0.]],\n",
       "\n",
       "       [[0., 0., 0., ..., 0., 0., 0.],\n",
       "        [0., 0., 0., ..., 0., 0., 0.],\n",
       "        [0., 0., 0., ..., 0., 0., 0.],\n",
       "        ...,\n",
       "        [0., 0., 0., ..., 0., 0., 0.],\n",
       "        [0., 0., 0., ..., 0., 0., 0.],\n",
       "        [0., 0., 0., ..., 0., 0., 0.]],\n",
       "\n",
       "       ...,\n",
       "\n",
       "       [[0., 0., 0., ..., 0., 0., 0.],\n",
       "        [0., 0., 0., ..., 0., 0., 0.],\n",
       "        [0., 0., 0., ..., 0., 0., 0.],\n",
       "        ...,\n",
       "        [0., 0., 0., ..., 0., 0., 0.],\n",
       "        [0., 0., 0., ..., 0., 0., 0.],\n",
       "        [0., 0., 0., ..., 0., 0., 0.]],\n",
       "\n",
       "       [[0., 0., 0., ..., 0., 0., 0.],\n",
       "        [0., 0., 0., ..., 0., 0., 0.],\n",
       "        [0., 0., 0., ..., 0., 0., 0.],\n",
       "        ...,\n",
       "        [0., 0., 0., ..., 0., 0., 0.],\n",
       "        [0., 0., 0., ..., 0., 0., 0.],\n",
       "        [0., 0., 0., ..., 0., 0., 0.]],\n",
       "\n",
       "       [[0., 0., 0., ..., 0., 0., 0.],\n",
       "        [0., 0., 0., ..., 0., 0., 0.],\n",
       "        [0., 0., 0., ..., 0., 0., 0.],\n",
       "        ...,\n",
       "        [0., 0., 0., ..., 0., 0., 0.],\n",
       "        [0., 0., 0., ..., 0., 0., 0.],\n",
       "        [0., 0., 0., ..., 0., 0., 0.]]], shape=(32, 32, 32), dtype=float32)"
      ]
     },
     "execution_count": 432,
     "metadata": {},
     "output_type": "execute_result"
    }
   ],
   "source": [
    "grayscale_cam"
   ]
  },
  {
   "cell_type": "code",
   "execution_count": 433,
   "metadata": {},
   "outputs": [],
   "source": [
    "# In this example grayscale_cam has only one image in the batch:\n",
    "visualization = show_cam_on_image(rgb_image, grayscale_cam[0, :], use_rgb=True)"
   ]
  },
  {
   "cell_type": "code",
   "execution_count": 427,
   "metadata": {},
   "outputs": [
    {
     "data": {
      "text/plain": [
       "(np.float64(-0.5), np.float64(31.5), np.float64(31.5), np.float64(-0.5))"
      ]
     },
     "execution_count": 427,
     "metadata": {},
     "output_type": "execute_result"
    },
    {
     "data": {
      "image/png": "[encoded data removed]",
      "text/plain": [
       "<Figure size 640x480 with 1 Axes>"
      ]
     },
     "metadata": {},
     "output_type": "display_data"
    }
   ],
   "source": [
    "plt.imshow(visualization)\n",
    "plt.axis('off')"
   ]
  }
 ],
 "metadata": {
  "kernelspec": {
   "display_name": "TorchML",
   "language": "python",
   "name": "python3"
  },
  "language_info": {
   "codemirror_mode": {
    "name": "ipython",
    "version": 3
   },
   "file_extension": ".py",
   "mimetype": "text/x-python",
   "name": "python",
   "nbconvert_exporter": "python",
   "pygments_lexer": "ipython3",
   "version": "3.11.10"
  }
 },
 "nbformat": 4,
 "nbformat_minor": 2
}
