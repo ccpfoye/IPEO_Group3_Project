{
 "cells": [
  {
   "cell_type": "code",
   "execution_count": 20,
   "metadata": {},
   "outputs": [],
   "source": [
    "import os\n",
    "import pickle\n",
    "import tensorflow as tf\n",
    "from tensorflow.keras import layers\n",
    "from tensorflow.keras.models import Sequential\n",
    "import numpy as np\n",
    "import matplotlib.pyplot as plt\n",
    "from collections import Counter\n",
    "# import tifffile as tiff"
   ]
  },
  {
   "cell_type": "markdown",
   "metadata": {},
   "source": [
    "1. Load a Test Image"
   ]
  },
  {
   "cell_type": "code",
   "execution_count": 28,
   "metadata": {},
   "outputs": [
    {
     "name": "stderr",
     "output_type": "stream",
     "text": [
      "Clipping input data to the valid range for imshow with RGB data ([0..1] for floats or [0..255] for integers).\n"
     ]
    },
    {
     "data": {
      "image/png": "[encoded data removed]",
      "text/plain": [
       "<Figure size 640x480 with 1 Axes>"
      ]
     },
     "metadata": {},
     "output_type": "display_data"
    }
   ],
   "source": [
    "# Function to load a single image and label from a directory\n",
    "def load_single_test_sample(directory):\n",
    "    # Get the first file in the directory\n",
    "    filenames = os.listdir(directory)\n",
    "    first_file = filenames[0]\n",
    "    \n",
    "    # Load the image and label\n",
    "    with open(os.path.join(directory, first_file), 'rb') as f:\n",
    "        image, label = pickle.load(f)\n",
    "        # Reshape the image to (height, width, bands)\n",
    "        image = np.transpose(image, (1, 2, 0))\n",
    "    return image, label\n",
    "\n",
    "# Path to the test directory\n",
    "test_dir = \"data/classification_dataset/test\"\n",
    "\n",
    "# Load one sample\n",
    "test_image, test_label = load_single_test_sample(test_dir)\n",
    "\n",
    "# Display the loaded test image for verification\n",
    "plt.imshow(test_image[:, :, :3])  # Display RGB channels (Bands 4, 3, 2)\n",
    "plt.title(f\"True Label: {test_label}\")\n",
    "plt.axis(\"off\")\n",
    "plt.show()"
   ]
  },
  {
   "cell_type": "markdown",
   "metadata": {},
   "source": [
    "2. Load the Trained Model"
   ]
  },
  {
   "cell_type": "code",
   "execution_count": 22,
   "metadata": {},
   "outputs": [
    {
     "name": "stdout",
     "output_type": "stream",
     "text": [
      "Model weights loaded successfully!\n"
     ]
    }
   ],
   "source": [
    "# Rebuild the model architecture\n",
    "model = Sequential([\n",
    "    layers.Conv2D(16, 12, padding='same', activation='relu', input_shape=(32, 32, 12)),\n",
    "    layers.MaxPooling2D(),\n",
    "    layers.Conv2D(32, 12, padding='same', activation='relu'),\n",
    "    layers.MaxPooling2D(),\n",
    "    layers.Conv2D(64, 12, padding='same', activation='relu'),\n",
    "    layers.MaxPooling2D(),\n",
    "    layers.Flatten(),\n",
    "    layers.Dense(128, activation='relu'),\n",
    "    layers.Dense(2)\n",
    "])\n",
    "\n",
    "# Compile the model with the same parameters used during training\n",
    "model.compile(\n",
    "    optimizer='adam',\n",
    "    loss=tf.keras.losses.SparseCategoricalCrossentropy(from_logits=True),\n",
    "    metrics=['accuracy']\n",
    ")\n",
    "\n",
    "# Load weights\n",
    "model.load_weights(\"with_classweights_10_epochs_weights.h5\")\n",
    "print(\"Model weights loaded successfully!\")"
   ]
  },
  {
   "cell_type": "markdown",
   "metadata": {},
   "source": [
    "3. Run Inference"
   ]
  },
  {
   "cell_type": "code",
   "execution_count": 23,
   "metadata": {},
   "outputs": [
    {
     "name": "stdout",
     "output_type": "stream",
     "text": [
      "True Label: 0\n",
      "Predicted Label: 0\n",
      "Prediction Probabilities: [[0.5165203  0.48347965]]\n"
     ]
    }
   ],
   "source": [
    "# Preprocess the test image: expand dimensions to add batch size\n",
    "test_image_preprocessed = np.expand_dims(test_image, axis=0)  # Shape: (1, 32, 32, 12)\n",
    "\n",
    "# Run inference\n",
    "predictions = model.predict(test_image_preprocessed)\n",
    "\n",
    "# Convert logits to probabilities (optional, based on your output)\n",
    "probabilities = tf.nn.softmax(predictions).numpy()\n",
    "\n",
    "# Get the predicted label\n",
    "predicted_label = np.argmax(probabilities, axis=-1)[0]\n",
    "\n",
    "# Display the predictions\n",
    "print(f\"True Label: {test_label}\")\n",
    "print(f\"Predicted Label: {predicted_label}\")\n",
    "print(f\"Prediction Probabilities: {probabilities}\")"
   ]
  },
  {
   "cell_type": "markdown",
   "metadata": {},
   "source": [
    "4. Display Results"
   ]
  },
  {
   "cell_type": "code",
   "execution_count": 24,
   "metadata": {},
   "outputs": [
    {
     "name": "stderr",
     "output_type": "stream",
     "text": [
      "Clipping input data to the valid range for imshow with RGB data ([0..1] for floats or [0..255] for integers).\n"
     ]
    },
    {
     "data": {
      "image/png": "[encoded data removed]",
      "text/plain": [
       "<Figure size 640x480 with 1 Axes>"
      ]
     },
     "metadata": {},
     "output_type": "display_data"
    }
   ],
   "source": [
    "plt.imshow(test_image[:, :, :3])  # Display RGB channels (Bands 4, 3, 2)\n",
    "plt.title(f\"True Label: {test_label} | Predicted Label: {predicted_label}\")\n",
    "plt.axis(\"off\")\n",
    "plt.show()"
   ]
  },
  {
   "cell_type": "markdown",
   "metadata": {},
   "source": [
    "5. Save the Test Image Used"
   ]
  },
  {
   "cell_type": "code",
   "execution_count": 25,
   "metadata": {},
   "outputs": [
    {
     "name": "stdout",
     "output_type": "stream",
     "text": [
      "Test image saved as 'test_image_used.png'\n"
     ]
    }
   ],
   "source": [
    "from PIL import Image\n",
    "\n",
    "# Convert test image to RGB format for saving\n",
    "rgb_image = (test_image[:, :, [3, 2, 1]] * 255).astype(np.uint8)  # Use Bands 4, 3, 2 for RGB\n",
    "image_to_save = Image.fromarray(rgb_image)\n",
    "image_to_save.save(\"test_image_used.png\")\n",
    "print(\"Test image saved as 'test_image_used.png'\")\n"
   ]
  }
 ],
 "metadata": {
  "kernelspec": {
   "display_name": "IPEO_Project",
   "language": "python",
   "name": "python3"
  },
  "language_info": {
   "codemirror_mode": {
    "name": "ipython",
    "version": 3
   },
   "file_extension": ".py",
   "mimetype": "text/x-python",
   "name": "python",
   "nbconvert_exporter": "python",
   "pygments_lexer": "ipython3",
   "version": "3.7.12"
  }
 },
 "nbformat": 4,
 "nbformat_minor": 2
}
