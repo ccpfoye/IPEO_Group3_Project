{
 "cells": [
  {
   "cell_type": "code",
   "execution_count": 1,
   "metadata": {},
   "outputs": [],
   "source": [
    "import os\n",
    "import pickle\n",
    "import tensorflow as tf\n",
    "from tensorflow.keras import layers\n",
    "from tensorflow.keras.models import Sequential\n",
    "import numpy as np\n",
    "\n",
    "import matplotlib.pyplot as plt\n",
    "# import tifffile as tiff"
   ]
  },
  {
   "cell_type": "code",
   "execution_count": 31,
   "metadata": {},
   "outputs": [],
   "source": [
    "# Function to load data from a directory\n",
    "def load_data_from_directory(directory):\n",
    "    images = []\n",
    "    labels = []\n",
    "    for filename in os.listdir(directory):\n",
    "        with open(os.path.join(directory, filename), 'rb') as f:\n",
    "            image, label = pickle.load(f)\n",
    "            images.append(image)\n",
    "            labels.append(label)\n",
    "    return np.array(images), np.array(labels)\n",
    "\n",
    "# Paths to your data directories\n",
    "train_dir = \"data/classification_dataset/train\"\n",
    "validation_dir = \"data/classification_dataset/validation\"\n",
    "test_dir = \"data/classification_dataset/test\"\n",
    "\n",
    "# Load the data\n",
    "train_images, train_labels = load_data_from_directory(train_dir)\n",
    "val_images, val_labels = load_data_from_directory(validation_dir)\n",
    "test_images, test_labels = load_data_from_directory(test_dir)\n",
    "\n",
    "# Convert data to tf.data.Dataset\n",
    "def create_tf_dataset(images, labels):\n",
    "    dataset = tf.data.Dataset.from_tensor_slices((images, labels))\n",
    "    return dataset\n",
    "\n",
    "train_dataset = create_tf_dataset(train_images, train_labels)\n",
    "validation_dataset = create_tf_dataset(val_images, val_labels)\n",
    "test_dataset = create_tf_dataset(test_images, test_labels)\n",
    "\n",
    "# Batch and shuffle the datasets\n",
    "BATCH_SIZE = 32\n",
    "\n",
    "train_dataset = train_dataset.shuffle(buffer_size=1000).batch(BATCH_SIZE).prefetch(tf.data.AUTOTUNE)\n",
    "validation_dataset = validation_dataset.batch(BATCH_SIZE).prefetch(tf.data.AUTOTUNE)\n",
    "test_dataset = test_dataset.batch(BATCH_SIZE).prefetch(tf.data.AUTOTUNE)"
   ]
  },
  {
   "cell_type": "code",
   "execution_count": 32,
   "metadata": {},
   "outputs": [
    {
     "name": "stdout",
     "output_type": "stream",
     "text": [
      "(12, 32, 32) 1\n"
     ]
    },
    {
     "data": {
      "image/png": "[encoded data removed]",
      "text/plain": [
       "<Figure size 640x480 with 1 Axes>"
      ]
     },
     "metadata": {},
     "output_type": "display_data"
    }
   ],
   "source": [
    "for images, labels in train_dataset.take(1):\n",
    "    for i in range(1):\n",
    "        print(images[i].shape, labels[i].numpy())\n",
    "        image = images[i]\n",
    "        label = labels[i]\n",
    "\n",
    "        # Reshape or reorder image data if necessary (bands, height, width -> height, width, bands)\n",
    "        image = np.transpose(image, (1, 2, 0))  # (12, 32, 32) -> (32, 32, 12)\n",
    "\n",
    "        # Select RGB bands (e.g., bands 4, 3, 2 from Sentinel-2, adjust if needed)\n",
    "        rgb_image = np.stack([\n",
    "            image[:, :, 3],  # Band 4 (Red)\n",
    "            image[:, :, 2],  # Band 3 (Green)\n",
    "            image[:, :, 1]   # Band 2 (Blue)\n",
    "        ], axis=-1)\n",
    "\n",
    "        # Normalize the RGB image for saving\n",
    "        rgb_image = (rgb_image / np.max(rgb_image) * 255).astype(np.uint8)\n",
    "\n",
    "        # Save the image as a TIFF file\n",
    "        # tiff.imwrite('rgb_image.tiff', rgb_image)\n",
    "        # print(\"Image saved as 'rgb_image.tiff'\")\n",
    "\n",
    "        # Display the RGB image\n",
    "        plt.imshow(rgb_image)\n",
    "        plt.title(f\"Label: {label.numpy()}\")\n",
    "        plt.axis(\"off\")\n",
    "        plt.show()\n"
   ]
  },
  {
   "cell_type": "code",
   "execution_count": null,
   "metadata": {},
   "outputs": [],
   "source": [
    "#Use class weights in model to re-balance the data"
   ]
  },
  {
   "cell_type": "code",
   "execution_count": null,
   "metadata": {},
   "outputs": [
    {
     "name": "stdout",
     "output_type": "stream",
     "text": [
      "(32, 12, 32, 32)\n",
      "(32,)\n",
      "(32, 32, 32, 12)\n"
     ]
    }
   ],
   "source": [
    "#Size of training data\n",
    "for image_batch, labels_batch in train_dataset.take(1):\n",
    "  print(image_batch.shape)\n",
    "  print(labels_batch.shape)"
   ]
  },
  {
   "cell_type": "code",
   "execution_count": 35,
   "metadata": {},
   "outputs": [],
   "source": [
    "TARGET_SHAPE = (32, 32, 32,12)\n",
    "\n",
    "def reshape_tensors(image_batch, labels_batch):\n",
    "    image_batch = tf.reshape(image_batch, shape=TARGET_SHAPE)\n",
    "    return image_batch, labels_batch\n",
    "\n",
    "train_dataset = train_dataset.map(reshape_tensors, num_parallel_calls=tf.data.AUTOTUNE)\n",
    "validation_dataset = validation_dataset.map(reshape_tensors, num_parallel_calls=tf.data.AUTOTUNE)\n",
    "test_dataset = test_dataset.map(reshape_tensors, num_parallel_calls=tf.data.AUTOTUNE)\n"
   ]
  },
  {
   "cell_type": "code",
   "execution_count": 36,
   "metadata": {},
   "outputs": [
    {
     "name": "stdout",
     "output_type": "stream",
     "text": [
      "(32, 32, 32, 12)\n",
      "(32,)\n"
     ]
    }
   ],
   "source": [
    "for image_batch, labels_batch in train_dataset.take(1):\n",
    "  print(image_batch.shape)\n",
    "  print(labels_batch.shape)"
   ]
  },
  {
   "cell_type": "code",
   "execution_count": 37,
   "metadata": {},
   "outputs": [],
   "source": [
    "img_height = 32\n",
    "img_width = 32"
   ]
  },
  {
   "cell_type": "code",
   "execution_count": 38,
   "metadata": {},
   "outputs": [],
   "source": [
    "batch_size = 32"
   ]
  },
  {
   "cell_type": "code",
   "execution_count": 39,
   "metadata": {},
   "outputs": [],
   "source": [
    "num_classes = 2\n",
    "\n",
    "model = Sequential([\n",
    "  layers.Rescaling(1./255, input_shape=(img_height, img_width, 12)),\n",
    "  layers.Conv2D(16, 12, padding='same', activation='relu'),\n",
    "  layers.MaxPooling2D(),\n",
    "  layers.Conv2D(32, 12, padding='same', activation='relu'),\n",
    "  layers.MaxPooling2D(),\n",
    "  layers.Conv2D(64, 12, padding='same', activation='relu'),\n",
    "  layers.MaxPooling2D(),\n",
    "  layers.Flatten(),\n",
    "  layers.Dense(128, activation='relu'),\n",
    "  layers.Dense(num_classes)\n",
    "])"
   ]
  },
  {
   "cell_type": "code",
   "execution_count": 40,
   "metadata": {},
   "outputs": [],
   "source": [
    "model.compile(optimizer='adam',\n",
    "              loss=tf.keras.losses.SparseCategoricalCrossentropy(from_logits=True),\n",
    "              metrics=['accuracy'])"
   ]
  },
  {
   "cell_type": "code",
   "execution_count": 41,
   "metadata": {},
   "outputs": [
    {
     "name": "stdout",
     "output_type": "stream",
     "text": [
      "Model: \"sequential_1\"\n",
      "_________________________________________________________________\n",
      " Layer (type)                Output Shape              Param #   \n",
      "=================================================================\n",
      " rescaling_1 (Rescaling)     (None, 32, 32, 12)        0         \n",
      "                                                                 \n",
      " conv2d_3 (Conv2D)           (None, 32, 32, 16)        27664     \n",
      "                                                                 \n",
      " max_pooling2d_3 (MaxPooling  (None, 16, 16, 16)       0         \n",
      " 2D)                                                             \n",
      "                                                                 \n",
      " conv2d_4 (Conv2D)           (None, 16, 16, 32)        73760     \n",
      "                                                                 \n",
      " max_pooling2d_4 (MaxPooling  (None, 8, 8, 32)         0         \n",
      " 2D)                                                             \n",
      "                                                                 \n",
      " conv2d_5 (Conv2D)           (None, 8, 8, 64)          294976    \n",
      "                                                                 \n",
      " max_pooling2d_5 (MaxPooling  (None, 4, 4, 64)         0         \n",
      " 2D)                                                             \n",
      "                                                                 \n",
      " flatten_1 (Flatten)         (None, 1024)              0         \n",
      "                                                                 \n",
      " dense_2 (Dense)             (None, 128)               131200    \n",
      "                                                                 \n",
      " dense_3 (Dense)             (None, 2)                 258       \n",
      "                                                                 \n",
      "=================================================================\n",
      "Total params: 527,858\n",
      "Trainable params: 527,858\n",
      "Non-trainable params: 0\n",
      "_________________________________________________________________\n"
     ]
    }
   ],
   "source": [
    "model.summary()"
   ]
  },
  {
   "cell_type": "code",
   "execution_count": null,
   "metadata": {},
   "outputs": [
    {
     "name": "stdout",
     "output_type": "stream",
     "text": [
      "Epoch 1/10\n",
      " 668/1673 [==========>...................] - ETA: 1:10 - loss: 0.3103 - accuracy: 0.8547"
     ]
    }
   ],
   "source": [
    "epochs=10\n",
    "history = model.fit(\n",
    "  train_dataset,\n",
    "  validation_data=validation_dataset,\n",
    "  epochs=epochs\n",
    ")"
   ]
  },
  {
   "cell_type": "code",
   "execution_count": null,
   "metadata": {},
   "outputs": [],
   "source": []
  }
 ],
 "metadata": {
  "kernelspec": {
   "display_name": "envuni",
   "language": "python",
   "name": "python3"
  },
  "language_info": {
   "codemirror_mode": {
    "name": "ipython",
    "version": 3
   },
   "file_extension": ".py",
   "mimetype": "text/x-python",
   "name": "python",
   "nbconvert_exporter": "python",
   "pygments_lexer": "ipython3",
   "version": "3.9.18"
  }
 },
 "nbformat": 4,
 "nbformat_minor": 2
}
