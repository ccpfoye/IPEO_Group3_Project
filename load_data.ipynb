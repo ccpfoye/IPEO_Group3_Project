{
 "cells": [
  {
   "cell_type": "code",
   "execution_count": null,
   "metadata": {},
   "outputs": [],
   "source": [
    "import os\n",
    "import pickle\n",
    "import tensorflow as tf\n",
    "import numpy as np"
   ]
  },
  {
   "cell_type": "code",
   "execution_count": null,
   "metadata": {},
   "outputs": [],
   "source": [
    "# Function to load data from a directory\n",
    "def load_data_from_directory(directory):\n",
    "    images = []\n",
    "    labels = []\n",
    "    for filename in os.listdir(directory):\n",
    "        with open(os.path.join(directory, filename), 'rb') as f:\n",
    "            image, label = pickle.load(f)\n",
    "            images.append(image)\n",
    "            labels.append(label)\n",
    "    return np.array(images), np.array(labels)\n",
    "\n",
    "# Paths to your data directories\n",
    "train_dir = \"data/classification_dataset/train\"\n",
    "validation_dir = \"data/classification_dataset/validation\"\n",
    "test_dir = \"data/classification_dataset/test\"\n",
    "\n",
    "# Load the data\n",
    "train_images, train_labels = load_data_from_directory(train_dir)\n",
    "val_images, val_labels = load_data_from_directory(validation_dir)\n",
    "test_images, test_labels = load_data_from_directory(test_dir)\n",
    "\n",
    "# Convert data to tf.data.Dataset\n",
    "def create_tf_dataset(images, labels):\n",
    "    dataset = tf.data.Dataset.from_tensor_slices((images, labels))\n",
    "    return dataset\n",
    "\n",
    "train_dataset = create_tf_dataset(train_images, train_labels)\n",
    "validation_dataset = create_tf_dataset(val_images, val_labels)\n",
    "test_dataset = create_tf_dataset(test_images, test_labels)\n",
    "\n",
    "# Batch and shuffle the datasets\n",
    "BATCH_SIZE = 32\n",
    "\n",
    "train_dataset = train_dataset.shuffle(buffer_size=1000).batch(BATCH_SIZE).prefetch(tf.data.AUTOTUNE)\n",
    "validation_dataset = validation_dataset.batch(BATCH_SIZE).prefetch(tf.data.AUTOTUNE)\n",
    "test_dataset = test_dataset.batch(BATCH_SIZE).prefetch(tf.data.AUTOTUNE)"
   ]
  },
  {
   "cell_type": "code",
   "execution_count": null,
   "metadata": {},
   "outputs": [],
   "source": [
    "import matplotlib.pyplot as plt\n",
    "# import tifffile as tiff\n",
    "import numpy as np\n",
    "\n",
    "for images, labels in train_dataset.take(1):\n",
    "    for i in range(1):\n",
    "        print(images[i].shape, labels[i].numpy())\n",
    "        image = images[i]\n",
    "        label = labels[i]\n",
    "\n",
    "        # Reshape or reorder image data if necessary (bands, height, width -> height, width, bands)\n",
    "        image = np.transpose(image, (1, 2, 0))  # (12, 32, 32) -> (32, 32, 12)\n",
    "\n",
    "        # Select RGB bands (e.g., bands 4, 3, 2 from Sentinel-2, adjust if needed)\n",
    "        rgb_image = np.stack([\n",
    "            image[:, :, 3],  # Band 4 (Red)\n",
    "            image[:, :, 2],  # Band 3 (Green)\n",
    "            image[:, :, 1]   # Band 2 (Blue)\n",
    "        ], axis=-1)\n",
    "\n",
    "        # Normalize the RGB image for saving\n",
    "        rgb_image = (rgb_image / np.max(rgb_image) * 255).astype(np.uint8)\n",
    "\n",
    "        # Save the image as a TIFF file\n",
    "        # tiff.imwrite('rgb_image.tiff', rgb_image)\n",
    "        # print(\"Image saved as 'rgb_image.tiff'\")\n",
    "\n",
    "        # Display the RGB image\n",
    "        plt.imshow(rgb_image)\n",
    "        plt.title(f\"Label: {label.numpy()}\")\n",
    "        plt.axis(\"off\")\n",
    "        plt.show()\n"
   ]
  },
  {
   "cell_type": "code",
   "execution_count": null,
   "metadata": {},
   "outputs": [],
   "source": []
  }
 ],
 "metadata": {
  "kernelspec": {
   "display_name": "FDH",
   "language": "python",
   "name": "python3"
  },
  "language_info": {
   "codemirror_mode": {
    "name": "ipython",
    "version": 3
   },
   "file_extension": ".py",
   "mimetype": "text/x-python",
   "name": "python",
   "nbconvert_exporter": "python",
   "pygments_lexer": "ipython3",
   "version": "3.11.10"
  }
 },
 "nbformat": 4,
 "nbformat_minor": 2
}
