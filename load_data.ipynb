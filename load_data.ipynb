{
 "cells": [
  {
   "cell_type": "code",
   "execution_count": 1,
   "metadata": {},
   "outputs": [],
   "source": [
    "import os\n",
    "import pickle\n",
    "import tensorflow as tf\n",
    "from tensorflow.keras import layers\n",
    "from tensorflow.keras.models import Sequential\n",
    "import numpy as np\n",
    "\n",
    "import matplotlib.pyplot as plt\n",
    "from collections import Counter\n",
    "# import tifffile as tiff"
   ]
  },
  {
   "cell_type": "code",
   "execution_count": 2,
   "metadata": {},
   "outputs": [],
   "source": [
    "# Function to load data from a directory\n",
    "def load_data_from_directory(directory):\n",
    "    images = []\n",
    "    labels = []\n",
    "    for filename in os.listdir(directory):\n",
    "        with open(os.path.join(directory, filename), 'rb') as f:\n",
    "            image, label = pickle.load(f)\n",
    "            # Reshape or reorder image data if necessary (bands, height, width -> height, width, bands)\n",
    "            image = np.transpose(image, (1, 2, 0))\n",
    "            images.append(image)\n",
    "            labels.append(label)\n",
    "    return np.array(images), np.array(labels)\n",
    "\n",
    "# Paths to your data directories\n",
    "train_dir = \"data/classification_dataset/train\"\n",
    "validation_dir = \"data/classification_dataset/validation\"\n",
    "test_dir = \"data/classification_dataset/test\"\n",
    "\n",
    "# Load the data\n",
    "train_images, train_labels = load_data_from_directory(train_dir)\n",
    "val_images, val_labels = load_data_from_directory(validation_dir)\n",
    "test_images, test_labels = load_data_from_directory(test_dir)\n",
    "\n",
    "# Convert data to tf.data.Dataset\n",
    "def create_tf_dataset(images, labels):\n",
    "    dataset = tf.data.Dataset.from_tensor_slices((images, labels))\n",
    "    return dataset\n",
    "\n",
    "train_dataset = create_tf_dataset(train_images, train_labels)\n",
    "validation_dataset = create_tf_dataset(val_images, val_labels)\n",
    "test_dataset = create_tf_dataset(test_images, test_labels)\n",
    "\n",
    "# Batch and shuffle the datasets\n",
    "BATCH_SIZE = 32\n",
    "\n",
    "train_dataset = train_dataset.shuffle(buffer_size=1000).batch(BATCH_SIZE).prefetch(tf.data.AUTOTUNE)\n",
    "validation_dataset = validation_dataset.batch(BATCH_SIZE).prefetch(tf.data.AUTOTUNE)\n",
    "test_dataset = test_dataset.batch(BATCH_SIZE).prefetch(tf.data.AUTOTUNE)"
   ]
  },
  {
   "cell_type": "code",
   "execution_count": 3,
   "metadata": {},
   "outputs": [
    {
     "name": "stdout",
     "output_type": "stream",
     "text": [
      "(32, 32, 12) 1\n"
     ]
    },
    {
     "data": {
      "image/png": "[encoded data removed]",
      "text/plain": [
       "<Figure size 640x480 with 1 Axes>"
      ]
     },
     "metadata": {},
     "output_type": "display_data"
    }
   ],
   "source": [
    "for images, labels in train_dataset.take(1):\n",
    "    for i in range(1):\n",
    "        print(images[i].shape, labels[i].numpy())\n",
    "        image = images[i]\n",
    "        label = labels[i]\n",
    "\n",
    "        # Reshape or reorder image data if necessary (bands, height, width -> height, width, bands)\n",
    "        #image = np.transpose(image, (1, 2, 0))  # (12, 32, 32) -> (32, 32, 12)\n",
    "\n",
    "        # Select RGB bands (e.g., bands 4, 3, 2 from Sentinel-2, adjust if needed)\n",
    "        rgb_image = np.stack([\n",
    "            image[:, :, 3],  # Band 4 (Red)\n",
    "            image[:, :, 2],  # Band 3 (Green)\n",
    "            image[:, :, 1]   # Band 2 (Blue)\n",
    "        ], axis=-1)\n",
    "        \n",
    "        # Normalize the RGB image for saving\n",
    "        rgb_image = (rgb_image / np.max(rgb_image) * 255).astype(np.uint8)\n",
    "\n",
    "        # Save the image as a TIFF file\n",
    "        # tiff.imwrite('rgb_image.tiff', rgb_image)\n",
    "        # print(\"Image saved as 'rgb_image.tiff'\")\n",
    "\n",
    "        # Display the RGB image\n",
    "        plt.imshow(rgb_image)\n",
    "        plt.title(f\"Label: {label.numpy()}\")\n",
    "        plt.axis(\"off\")\n",
    "        plt.show()\n"
   ]
  },
  {
   "cell_type": "code",
   "execution_count": 4,
   "metadata": {},
   "outputs": [],
   "source": [
    "#Use class weights in model to re-balance the data"
   ]
  },
  {
   "cell_type": "code",
   "execution_count": 5,
   "metadata": {},
   "outputs": [
    {
     "name": "stdout",
     "output_type": "stream",
     "text": [
      "(32, 32, 32, 12)\n",
      "(32,)\n"
     ]
    }
   ],
   "source": [
    "#Size of training data\n",
    "for image_batch, labels_batch in train_dataset.take(1):\n",
    "  print(image_batch.shape)\n",
    "  print(labels_batch.shape)"
   ]
  },
  {
   "cell_type": "code",
   "execution_count": 6,
   "metadata": {},
   "outputs": [],
   "source": [
    "TARGET_SHAPE = (-1, 32, 32,12)\n",
    "\n",
    "def reshape_tensors(image_batch, labels_batch):\n",
    "    image_batch = tf.reshape(image_batch, shape=TARGET_SHAPE)\n",
    "    return image_batch, labels_batch\n",
    "\n",
    "#train_dataset = train_dataset.map(reshape_tensors, num_parallel_calls=tf.data.AUTOTUNE)\n",
    "#validation_dataset = validation_dataset.map(reshape_tensors, num_parallel_calls=tf.data.AUTOTUNE)\n",
    "#test_dataset = test_dataset.map(reshape_tensors, num_parallel_calls=tf.data.AUTOTUNE)\n"
   ]
  },
  {
   "cell_type": "code",
   "execution_count": 7,
   "metadata": {},
   "outputs": [
    {
     "name": "stdout",
     "output_type": "stream",
     "text": [
      "(32, 32, 32, 12)\n",
      "(32,)\n"
     ]
    }
   ],
   "source": [
    "for image_batch, labels_batch in train_dataset.take(1):\n",
    "  print(image_batch.shape)\n",
    "  print(labels_batch.shape)"
   ]
  },
  {
   "cell_type": "code",
   "execution_count": 8,
   "metadata": {},
   "outputs": [],
   "source": [
    "img_height = 32\n",
    "img_width = 32"
   ]
  },
  {
   "cell_type": "code",
   "execution_count": 9,
   "metadata": {},
   "outputs": [],
   "source": [
    "batch_size = 32"
   ]
  },
  {
   "cell_type": "code",
   "execution_count": 10,
   "metadata": {},
   "outputs": [],
   "source": [
    "num_classes = 2\n",
    "\n",
    "model = Sequential([\n",
    "  layers.Conv2D(16, 12, padding='same', activation='relu'),\n",
    "  layers.MaxPooling2D(),\n",
    "  layers.Conv2D(32, 12, padding='same', activation='relu'),\n",
    "  layers.MaxPooling2D(),\n",
    "  layers.Conv2D(64, 12, padding='same', activation='relu'),\n",
    "  layers.MaxPooling2D(),\n",
    "  layers.Flatten(),\n",
    "  layers.Dense(128, activation='relu'),\n",
    "  layers.Dense(num_classes)\n",
    "])"
   ]
  },
  {
   "cell_type": "code",
   "execution_count": 11,
   "metadata": {},
   "outputs": [],
   "source": [
    "model.compile(optimizer='adam',\n",
    "              loss=tf.keras.losses.SparseCategoricalCrossentropy(from_logits=True),\n",
    "              metrics=['accuracy'])"
   ]
  },
  {
   "cell_type": "code",
   "execution_count": 12,
   "metadata": {},
   "outputs": [
    {
     "name": "stdout",
     "output_type": "stream",
     "text": [
      "31.0\n"
     ]
    }
   ],
   "source": [
    "#Input to reshape is a tensor with 380928 values, but the requested shape has 393216\n",
    "\n",
    "test = 380928/(32*32*12)\n",
    "print(test)"
   ]
  },
  {
   "cell_type": "code",
   "execution_count": 13,
   "metadata": {},
   "outputs": [
    {
     "ename": "ValueError",
     "evalue": "This model has not yet been built. Build the model first by calling `build()` or by calling the model on a batch of data.",
     "output_type": "error",
     "traceback": [
      "\u001b[0;31m---------------------------------------------------------------------------\u001b[0m",
      "\u001b[0;31mValueError\u001b[0m                                Traceback (most recent call last)",
      "Cell \u001b[0;32mIn[13], line 1\u001b[0m\n\u001b[0;32m----> 1\u001b[0m \u001b[43mmodel\u001b[49m\u001b[38;5;241;43m.\u001b[39;49m\u001b[43msummary\u001b[49m\u001b[43m(\u001b[49m\u001b[43m)\u001b[49m\n",
      "File \u001b[0;32m~/miniconda3/envs/envuni/lib/python3.9/site-packages/keras/engine/training.py:3214\u001b[0m, in \u001b[0;36mModel.summary\u001b[0;34m(self, line_length, positions, print_fn, expand_nested, show_trainable, layer_range)\u001b[0m\n\u001b[1;32m   3184\u001b[0m \u001b[38;5;250m\u001b[39m\u001b[38;5;124;03m\"\"\"Prints a string summary of the network.\u001b[39;00m\n\u001b[1;32m   3185\u001b[0m \n\u001b[1;32m   3186\u001b[0m \u001b[38;5;124;03mArgs:\u001b[39;00m\n\u001b[0;32m   (...)\u001b[0m\n\u001b[1;32m   3211\u001b[0m \u001b[38;5;124;03m    ValueError: if `summary()` is called before the model is built.\u001b[39;00m\n\u001b[1;32m   3212\u001b[0m \u001b[38;5;124;03m\"\"\"\u001b[39;00m\n\u001b[1;32m   3213\u001b[0m \u001b[38;5;28;01mif\u001b[39;00m \u001b[38;5;129;01mnot\u001b[39;00m \u001b[38;5;28mself\u001b[39m\u001b[38;5;241m.\u001b[39mbuilt:\n\u001b[0;32m-> 3214\u001b[0m     \u001b[38;5;28;01mraise\u001b[39;00m \u001b[38;5;167;01mValueError\u001b[39;00m(\n\u001b[1;32m   3215\u001b[0m         \u001b[38;5;124m\"\u001b[39m\u001b[38;5;124mThis model has not yet been built. \u001b[39m\u001b[38;5;124m\"\u001b[39m\n\u001b[1;32m   3216\u001b[0m         \u001b[38;5;124m\"\u001b[39m\u001b[38;5;124mBuild the model first by calling `build()` or by calling \u001b[39m\u001b[38;5;124m\"\u001b[39m\n\u001b[1;32m   3217\u001b[0m         \u001b[38;5;124m\"\u001b[39m\u001b[38;5;124mthe model on a batch of data.\u001b[39m\u001b[38;5;124m\"\u001b[39m\n\u001b[1;32m   3218\u001b[0m     )\n\u001b[1;32m   3219\u001b[0m layer_utils\u001b[38;5;241m.\u001b[39mprint_summary(\n\u001b[1;32m   3220\u001b[0m     \u001b[38;5;28mself\u001b[39m,\n\u001b[1;32m   3221\u001b[0m     line_length\u001b[38;5;241m=\u001b[39mline_length,\n\u001b[0;32m   (...)\u001b[0m\n\u001b[1;32m   3226\u001b[0m     layer_range\u001b[38;5;241m=\u001b[39mlayer_range,\n\u001b[1;32m   3227\u001b[0m )\n",
      "\u001b[0;31mValueError\u001b[0m: This model has not yet been built. Build the model first by calling `build()` or by calling the model on a batch of data."
     ]
    }
   ],
   "source": [
    "model.summary()"
   ]
  },
  {
   "cell_type": "code",
   "execution_count": null,
   "metadata": {},
   "outputs": [
    {
     "name": "stdout",
     "output_type": "stream",
     "text": [
      "Epoch 1/10\n",
      "1673/1673 [==============================] - 123s 73ms/step - loss: 0.2905 - accuracy: 0.8525 - val_loss: 0.5748 - val_accuracy: 0.5000\n",
      "Epoch 2/10\n",
      "1673/1673 [==============================] - 128s 77ms/step - loss: 0.2717 - accuracy: 0.8569 - val_loss: 0.6153 - val_accuracy: 0.5416\n",
      "Epoch 3/10\n",
      "1673/1673 [==============================] - 131s 79ms/step - loss: 0.2587 - accuracy: 0.8674 - val_loss: 0.5344 - val_accuracy: 0.5897\n",
      "Epoch 4/10\n",
      "1673/1673 [==============================] - 137s 82ms/step - loss: 0.2526 - accuracy: 0.8713 - val_loss: 0.5454 - val_accuracy: 0.5584\n",
      "Epoch 5/10\n",
      "1673/1673 [==============================] - 138s 83ms/step - loss: 0.2528 - accuracy: 0.8705 - val_loss: 0.5092 - val_accuracy: 0.5824\n",
      "Epoch 6/10\n",
      "1673/1673 [==============================] - 157s 94ms/step - loss: 0.2499 - accuracy: 0.8720 - val_loss: 0.5539 - val_accuracy: 0.5703\n",
      "Epoch 7/10\n",
      "1673/1673 [==============================] - 148s 89ms/step - loss: 0.2524 - accuracy: 0.8723 - val_loss: 0.4944 - val_accuracy: 0.6122\n",
      "Epoch 8/10\n",
      "1673/1673 [==============================] - 141s 84ms/step - loss: 0.2469 - accuracy: 0.8732 - val_loss: 0.5295 - val_accuracy: 0.5846\n",
      "Epoch 9/10\n",
      "1673/1673 [==============================] - 144s 86ms/step - loss: 0.2447 - accuracy: 0.8735 - val_loss: 0.5265 - val_accuracy: 0.5975\n",
      "Epoch 10/10\n",
      "1673/1673 [==============================] - 148s 89ms/step - loss: 0.2444 - accuracy: 0.8740 - val_loss: 0.5134 - val_accuracy: 0.6056\n"
     ]
    }
   ],
   "source": [
    "epochs=10\n",
    "history = model.fit(\n",
    "  train_dataset,\n",
    "  validation_data=validation_dataset,\n",
    "  epochs=epochs\n",
    ")\n",
    "\n",
    "#no_classweights_10_ephocs"
   ]
  },
  {
   "cell_type": "code",
   "execution_count": null,
   "metadata": {},
   "outputs": [],
   "source": [
    "# Save the entire model as a `.keras` zip archive.\n",
    "model.save('no_classweights_10_epochs.keras')"
   ]
  },
  {
   "cell_type": "markdown",
   "metadata": {},
   "source": [
    "## Training with class weights"
   ]
  },
  {
   "cell_type": "code",
   "execution_count": 14,
   "metadata": {},
   "outputs": [
    {
     "name": "stdout",
     "output_type": "stream",
     "text": [
      "Class Weights: {0: 0.5864792620670012, 1: 3.390866480871548}\n"
     ]
    }
   ],
   "source": [
    "def calculate_class_weights(dataset):\n",
    "    # Extract all labels from the dataset\n",
    "    all_labels = []\n",
    "    for _, labels in dataset:\n",
    "        all_labels.extend(labels.numpy())\n",
    "\n",
    "    # Count the occurrences of each class\n",
    "    label_counts = Counter(all_labels)\n",
    "\n",
    "    # Total number of samples\n",
    "    total_samples = sum(label_counts.values())\n",
    "\n",
    "    # Calculate weights for each class\n",
    "    class_weights = {label: total_samples / (len(label_counts) * count) \n",
    "                     for label, count in label_counts.items()}\n",
    "\n",
    "    return class_weights\n",
    "\n",
    "# Calculate class weights for the train_dataset\n",
    "class_weights = calculate_class_weights(train_dataset)\n",
    "print(\"Class Weights:\", class_weights)"
   ]
  },
  {
   "cell_type": "code",
   "execution_count": null,
   "metadata": {},
   "outputs": [
    {
     "name": "stdout",
     "output_type": "stream",
     "text": [
      "Epoch 1/10\n"
     ]
    },
    {
     "name": "stderr",
     "output_type": "stream",
     "text": [
      "2024-11-22 12:53:10.132565: W tensorflow/core/platform/profile_utils/cpu_utils.cc:128] Failed to get CPU frequency: 0 Hz\n"
     ]
    },
    {
     "name": "stdout",
     "output_type": "stream",
     "text": [
      "1673/1673 [==============================] - 4548s 3s/step - loss: 0.4030 - accuracy: 0.7035 - val_loss: 0.3836 - val_accuracy: 0.8271\n",
      "Epoch 2/10\n",
      "1673/1673 [==============================] - 134s 80ms/step - loss: 0.3923 - accuracy: 0.7066 - val_loss: 0.3919 - val_accuracy: 0.8233\n",
      "Epoch 3/10\n",
      " 248/1673 [===>..........................] - ETA: 39:59 - loss: 0.3817 - accuracy: 0.7077"
     ]
    }
   ],
   "source": [
    "epochs=10\n",
    "history = model.fit(\n",
    "  train_dataset,\n",
    "  validation_data=validation_dataset,\n",
    "  epochs=epochs,\n",
    "  class_weight = class_weights\n",
    ")"
   ]
  },
  {
   "cell_type": "code",
   "execution_count": null,
   "metadata": {},
   "outputs": [],
   "source": [
    "model.save('with_classweights_10_epochs.keras')"
   ]
  },
  {
   "cell_type": "markdown",
   "metadata": {},
   "source": [
    "### To do some visualizations!"
   ]
  },
  {
   "cell_type": "code",
   "execution_count": null,
   "metadata": {},
   "outputs": [],
   "source": []
  }
 ],
 "metadata": {
  "kernelspec": {
   "display_name": "envuni",
   "language": "python",
   "name": "python3"
  },
  "language_info": {
   "codemirror_mode": {
    "name": "ipython",
    "version": 3
   },
   "file_extension": ".py",
   "mimetype": "text/x-python",
   "name": "python",
   "nbconvert_exporter": "python",
   "pygments_lexer": "ipython3",
   "version": "3.9.18"
  }
 },
 "nbformat": 4,
 "nbformat_minor": 2
}
